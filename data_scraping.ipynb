{
 "cells": [
  {
   "cell_type": "markdown",
   "metadata": {},
   "source": [
    "---\n",
    "# Data Scraping for Voter Turnout Analysis "
   ]
  },
  {
   "cell_type": "markdown",
   "metadata": {},
   "source": [
    "\n",
    "### Import all required packages"
   ]
  },
  {
   "cell_type": "code",
   "execution_count": 68,
   "metadata": {},
   "outputs": [
    {
     "data": {
      "text/plain": [
       "'2.2.3'"
      ]
     },
     "execution_count": 68,
     "metadata": {},
     "output_type": "execute_result"
    }
   ],
   "source": [
    "import requests as rqst\n",
    "from bs4 import BeautifulSoup as btsup\n",
    "import pandas as pd\n",
    "import numpy as np\n",
    "pd.__version__"
   ]
  },
  {
   "cell_type": "markdown",
   "metadata": {},
   "source": [
    "---\n",
    "### Wikipedia Website URL for scrapping the 2014 Andhra Pradesh Assemble Elections data"
   ]
  },
  {
   "cell_type": "code",
   "execution_count": 69,
   "metadata": {},
   "outputs": [],
   "source": [
    "year = input(\"Please Enter the AP Election year: \")\n",
    "url = f\"https://en.wikipedia.org/wiki/{year}_Andhra_Pradesh_Legislative_Assembly_election#Andhra_Pradesh_results\""
   ]
  },
  {
   "cell_type": "markdown",
   "metadata": {},
   "source": [
    "---\n",
    "### Send a HTTP request to the specified URL and save the response"
   ]
  },
  {
   "cell_type": "code",
   "execution_count": 70,
   "metadata": {},
   "outputs": [
    {
     "name": "stdout",
     "output_type": "stream",
     "text": [
      "Request Successfull\n"
     ]
    }
   ],
   "source": [
    "try:\n",
    "    response = rqst.get(url)\n",
    "    response.raise_for_status()\n",
    "    print(\"Request Successfull\")\n",
    "except rqst.exceptions.ConnectionError as e:\n",
    "    print(\"Connection Error: Please check your internet connection.\", e)\n",
    "except rqst.exceptions.RequestException as e:\n",
    "    print(\"Request failed:\", e)"
   ]
  },
  {
   "cell_type": "markdown",
   "metadata": {},
   "source": [
    "---\n",
    "### Parsing the HTML content to find the table"
   ]
  },
  {
   "cell_type": "code",
   "execution_count": 71,
   "metadata": {},
   "outputs": [
    {
     "data": {
      "text/plain": [
       "'<!DOCTYPE html>\\n<html class=\"client-nojs vector-feature-language-in-header-enabled vector-feature-language-in-main-page-header-disabled vector-feature-page-tools-pinned-disabled vector-feature-toc-pin'"
      ]
     },
     "execution_count": 71,
     "metadata": {},
     "output_type": "execute_result"
    }
   ],
   "source": [
    "soup = btsup(response.content, 'html.parser')\n",
    "soup.prettify()[:200]"
   ]
  },
  {
   "cell_type": "markdown",
   "metadata": {},
   "source": [
    "---\n",
    "### Extracting the HTML content of the target table"
   ]
  },
  {
   "cell_type": "code",
   "execution_count": 72,
   "metadata": {},
   "outputs": [
    {
     "data": {
      "text/plain": [
       "'<table class=\"wikitable sortable\" style=\"text-align:center;\">\\n <tbody>\\n  <tr>\\n   <th rowspan=\"2\">\\n    District\\n   </th>\\n   <th colspan=\"2\">\\n    Constituency\\n   </th>\\n   <th colspan=\"5\">\\n    Winner\\n   '"
      ]
     },
     "execution_count": 72,
     "metadata": {},
     "output_type": "execute_result"
    }
   ],
   "source": [
    "table = soup.find('h3', id='Results_by_constituency', string='Results by constituency').find_next('table')\n",
    "table.prettify()[:200]"
   ]
  },
  {
   "cell_type": "markdown",
   "metadata": {},
   "source": [
    "---\n",
    "### Extracting the Rows of the target table"
   ]
  },
  {
   "cell_type": "code",
   "execution_count": 73,
   "metadata": {},
   "outputs": [
    {
     "data": {
      "text/plain": [
       "[<tr>\n",
       " <th rowspan=\"2\">District\n",
       " </th>\n",
       " <th colspan=\"2\">Constituency\n",
       " </th>\n",
       " <th colspan=\"5\">Winner\n",
       " </th>\n",
       " <th colspan=\"5\">Runner Up\n",
       " </th>\n",
       " <th rowspan=\"2\">Margin\n",
       " </th></tr>,\n",
       " <tr>\n",
       " <th>No.\n",
       " </th>\n",
       " <th>Name\n",
       " </th>\n",
       " <th>Candidate\n",
       " </th>\n",
       " <th colspan=\"2\">Party\n",
       " </th>\n",
       " <th>Votes\n",
       " </th>\n",
       " <th>%\n",
       " </th>\n",
       " <th>Candidate\n",
       " </th>\n",
       " <th colspan=\"2\">Party\n",
       " </th>\n",
       " <th>Votes\n",
       " </th>\n",
       " <th>%\n",
       " </th></tr>,\n",
       " <tr>\n",
       " <td rowspan=\"8\"><a href=\"/wiki/Srikakulam_district\" title=\"Srikakulam district\">Srikakulam</a>\n",
       " </td>\n",
       " <th>1\n",
       " </th>\n",
       " <td><a href=\"/wiki/Ichchapuram_Assembly_constituency\" title=\"Ichchapuram Assembly constituency\">Ichchapuram</a>\n",
       " </td>\n",
       " <td><a href=\"/wiki/Ashok_Bendalam\" title=\"Ashok Bendalam\">Bendalam Ashok</a>\n",
       " </td>\n",
       " <td data-sort-value=\"Telugu Desam Party\" style=\"width: 2px; color:inherit; background-color: #FFED00;\">\n",
       " </td>\n",
       " <td scope=\"row\" style=\"text-align: left;\"><a href=\"/wiki/Telugu_Desam_Party\" title=\"Telugu Desam Party\">TDP</a>\n",
       " </td>\n",
       " <td>110,612\n",
       " </td>\n",
       " <td>58.58\n",
       " </td>\n",
       " <td>Piriya Vijaya\n",
       " </td>\n",
       " <td data-sort-value=\"YSR Congress Party\" style=\"width: 2px; color:inherit; background-color: #1569C7;\">\n",
       " </td>\n",
       " <td scope=\"row\" style=\"text-align: left;\"><a href=\"/wiki/YSR_Congress_Party\" title=\"YSR Congress Party\">YSRCP</a>\n",
       " </td>\n",
       " <td>70,829\n",
       " </td>\n",
       " <td>37.51\n",
       " </td>\n",
       " <td style=\"background:#FFED00;\">39,783\n",
       " </td></tr>,\n",
       " <tr>\n",
       " <th>2\n",
       " </th>\n",
       " <td><a href=\"/wiki/Palasa_Assembly_constituency\" title=\"Palasa Assembly constituency\">Palasa</a>\n",
       " </td>\n",
       " <td><a href=\"/wiki/Gouthu_Sireesha\" title=\"Gouthu Sireesha\">Gouthu Sireesha</a>\n",
       " </td>\n",
       " <td data-sort-value=\"Telugu Desam Party\" style=\"width: 2px; color:inherit; background-color: #FFED00;\">\n",
       " </td>\n",
       " <td scope=\"row\" style=\"text-align: left;\"><a href=\"/wiki/Telugu_Desam_Party\" title=\"Telugu Desam Party\">TDP</a>\n",
       " </td>\n",
       " <td>101,560\n",
       " </td>\n",
       " <td>60.44\n",
       " </td>\n",
       " <td><a href=\"/wiki/Seediri_Appalaraju\" title=\"Seediri Appalaraju\">Seediri Appalaraju</a>\n",
       " </td>\n",
       " <td data-sort-value=\"YSR Congress Party\" style=\"width: 2px; color:inherit; background-color: #1569C7;\">\n",
       " </td>\n",
       " <td scope=\"row\" style=\"text-align: left;\"><a href=\"/wiki/YSR_Congress_Party\" title=\"YSR Congress Party\">YSRCP</a>\n",
       " </td>\n",
       " <td>61,210\n",
       " </td>\n",
       " <td>36.43\n",
       " </td>\n",
       " <td style=\"background:#FFED00;\">40,350\n",
       " </td></tr>,\n",
       " <tr>\n",
       " <th>3\n",
       " </th>\n",
       " <td><a href=\"/wiki/Tekkali_Assembly_constituency\" title=\"Tekkali Assembly constituency\">Tekkali</a>\n",
       " </td>\n",
       " <td><a href=\"/wiki/Kinjarapu_Atchannaidu\" title=\"Kinjarapu Atchannaidu\">Kinjarapu Atchannaidu</a>\n",
       " </td>\n",
       " <td data-sort-value=\"Telugu Desam Party\" style=\"width: 2px; color:inherit; background-color: #FFED00;\">\n",
       " </td>\n",
       " <td scope=\"row\" style=\"text-align: left;\"><a href=\"/wiki/Telugu_Desam_Party\" title=\"Telugu Desam Party\">TDP</a>\n",
       " </td>\n",
       " <td>107,923\n",
       " </td>\n",
       " <td>55.71\n",
       " </td>\n",
       " <td><a href=\"/wiki/Duvvada_Srinivas\" title=\"Duvvada Srinivas\">Duvvada Srinivas</a>\n",
       " </td>\n",
       " <td data-sort-value=\"YSR Congress Party\" style=\"width: 2px; color:inherit; background-color: #1569C7;\">\n",
       " </td>\n",
       " <td scope=\"row\" style=\"text-align: left;\"><a href=\"/wiki/YSR_Congress_Party\" title=\"YSR Congress Party\">YSRCP</a>\n",
       " </td>\n",
       " <td>73,488\n",
       " </td>\n",
       " <td>37.94\n",
       " </td>\n",
       " <td style=\"background:#FFED00;\">34,435\n",
       " </td></tr>]"
      ]
     },
     "execution_count": 73,
     "metadata": {},
     "output_type": "execute_result"
    }
   ],
   "source": [
    "rows = table.find_all('tr')\n",
    "rows[:5]"
   ]
  },
  {
   "cell_type": "markdown",
   "metadata": {},
   "source": [
    "---\n",
    "### Extracting the Main and Sub Headers of the Table\n",
    "\n",
    "![Table Header](./table_header.png)"
   ]
  },
  {
   "cell_type": "code",
   "execution_count": 74,
   "metadata": {},
   "outputs": [
    {
     "name": "stdout",
     "output_type": "stream",
     "text": [
      "['District', 'Constituency', 'Winner', 'Runner Up', 'Margin']\n",
      "['No.', 'Name', 'Candidate', 'Party', 'Votes', '%', 'Candidate', 'Party', 'Votes', '%']\n"
     ]
    }
   ],
   "source": [
    "headers = []\n",
    "for header in rows:\n",
    "    headers.append(header.find_all('th',string=''))\n",
    "main_headers = []\n",
    "sub_headers =  []\n",
    "\n",
    "for main in headers[0]:\n",
    "    main_headers.append(main.text.strip())\n",
    "   \n",
    "main_headers\n",
    "\n",
    "for sub in headers[1]:\n",
    "    sub_headers.append(sub.text.strip()) \n",
    "\n",
    "print(main_headers)\n",
    "print(sub_headers)"
   ]
  },
  {
   "cell_type": "markdown",
   "metadata": {},
   "source": [
    "---\n",
    "### Data Flattening\n",
    "\n",
    "- Explanation\n",
    "    - The above headers contain nested headers.\n",
    "    - The main headers **<span style='color:lightgreen'>Constituency, Winner, Runner Up</span>** have sub-headers like **<span style='color:green'>No. and Name for Constituency, and Candidate, Party, Votes for Winner and Runner Up</span>**\n",
    "\n",
    "<style>\n",
    "    table {\n",
    "        font-size: 10px; /* Adjust the size as needed */\n",
    "    }\n",
    "</style>\n",
    "\n",
    "### Before Data Flattening of Headers\n",
    "![Before Data Flattening of Headers](./table_header.png)\n",
    "\n",
    "### After Data Flattening of Headers\n",
    "\n",
    "| District    | Constituency No. | Constituency Name | Winner Candidate | Winner Party | Winner Votes | Runner-Up Candidate | Runner-Up Party | Runner-Up Votes | Margin |\n",
    "|-------------|------------------|-------------------|------------------|--------------|--------------|---------------------|-----------------|-----------------|--------|\n",
    "| District A  | 1                | Name A            | Candidate A      | Party A      | 12000        | Candidate B         | Party B         | 11500           | 500    |\n",
    "| District B  | 2                | Name B            | Candidate C      | Party C      | 15000        | Candidate D         | Party D         | 14000           | 1000   |\n",
    "| District C  | 3                | Name C            | Candidate E      | Party E      | 18000        | Candidate F         | Party F         | 17500           | 500    |\n",
    "\n"
   ]
  },
  {
   "cell_type": "code",
   "execution_count": 75,
   "metadata": {},
   "outputs": [
    {
     "name": "stdout",
     "output_type": "stream",
     "text": [
      "['District', 'Constituency No.', 'Constituency Name', 'Winner Candidate', 'Winner Party', 'Winner Votes', 'Runner-Up Candidate', 'Runner-Up Party', 'Runner-Up Votes', 'Margin', 'Link']\n"
     ]
    },
    {
     "data": {
      "text/plain": [
       "11"
      ]
     },
     "execution_count": 75,
     "metadata": {},
     "output_type": "execute_result"
    }
   ],
   "source": [
    "flattened_headers = []\n",
    "\n",
    "\n",
    "for header in main_headers:\n",
    "    if header == 'District' or header == 'Margin':\n",
    "        # Add directly for single columns\n",
    "        flattened_headers.append(header)\n",
    "    elif header == 'Constituency':\n",
    "        # Map 'Constituency' to 'No.' and 'Name'\n",
    "        flattened_headers.extend(['Constituency No.', 'Constituency Name'])\n",
    "    elif header == 'Winner':\n",
    "        # Map 'Winner' to 'Candidate', 'Party', 'Votes'\n",
    "        flattened_headers.extend(['Winner Candidate', 'Winner Party', 'Winner Votes'])\n",
    "    elif header == 'Runner Up':\n",
    "        # Map 'Runner Up' to 'Candidate', 'Party', 'Votes'\n",
    "        flattened_headers.extend(['Runner-Up Candidate', 'Runner-Up Party', 'Runner-Up Votes'])\n",
    "\n",
    "flattened_headers.append('Link')\n",
    "print(flattened_headers)\n",
    "len(flattened_headers)"
   ]
  },
  {
   "cell_type": "markdown",
   "metadata": {},
   "source": [
    "---\n",
    "### Extract the Data of the Target Table"
   ]
  },
  {
   "cell_type": "code",
   "execution_count": 76,
   "metadata": {},
   "outputs": [
    {
     "data": {
      "text/plain": [
       "[['Srikakulam',\n",
       "  '1',\n",
       "  'Ichchapuram',\n",
       "  'Bendalam Ashok',\n",
       "  'TDP',\n",
       "  '110,612',\n",
       "  '58.58',\n",
       "  'Piriya Vijaya',\n",
       "  'YSRCP',\n",
       "  '70,829',\n",
       "  '37.51',\n",
       "  '39,783'],\n",
       " ['2',\n",
       "  'Palasa',\n",
       "  'Gouthu Sireesha',\n",
       "  'TDP',\n",
       "  '101,560',\n",
       "  '60.44',\n",
       "  'Seediri Appalaraju',\n",
       "  'YSRCP',\n",
       "  '61,210',\n",
       "  '36.43',\n",
       "  '40,350'],\n",
       " ['3',\n",
       "  'Tekkali',\n",
       "  'Kinjarapu Atchannaidu',\n",
       "  'TDP',\n",
       "  '107,923',\n",
       "  '55.71',\n",
       "  'Duvvada Srinivas',\n",
       "  'YSRCP',\n",
       "  '73,488',\n",
       "  '37.94',\n",
       "  '34,435'],\n",
       " ['4',\n",
       "  'Pathapatnam',\n",
       "  'Mamidi Govinda Rao',\n",
       "  'TDP',\n",
       "  '89,452',\n",
       "  '54.76',\n",
       "  'Reddy Shanthi',\n",
       "  'YSRCP',\n",
       "  '62,925',\n",
       "  '38.52',\n",
       "  '26,527'],\n",
       " ['5',\n",
       "  'Srikakulam',\n",
       "  'Gondu Shankar',\n",
       "  'TDP',\n",
       "  '117,091',\n",
       "  '60.93',\n",
       "  'Dharmana Prasada Rao',\n",
       "  'YSRCP',\n",
       "  '64,570',\n",
       "  '33.60',\n",
       "  '52,521']]"
      ]
     },
     "execution_count": 76,
     "metadata": {},
     "output_type": "execute_result"
    }
   ],
   "source": [
    "table_data = []\n",
    "for row in rows[2:]:\n",
    "    table_data.append([col.text.strip() for col in row.find_all(['td','th']) if len(col.text.strip())!=0])\n",
    "table_data[:5]"
   ]
  },
  {
   "cell_type": "markdown",
   "metadata": {},
   "source": [
    "---\n",
    "### 1. Add Missing District Data\n",
    "\n",
    "### 2. Add Wikipedia Links for Each Constituency\n",
    "\n",
    "###### Don't Run this cell multiple times if need run from previous cell"
   ]
  },
  {
   "cell_type": "code",
   "execution_count": 77,
   "metadata": {},
   "outputs": [
    {
     "data": {
      "text/plain": [
       "[['Srikakulam',\n",
       "  '1',\n",
       "  'Ichchapuram',\n",
       "  'Bendalam Ashok',\n",
       "  'TDP',\n",
       "  '110,612',\n",
       "  '58.58',\n",
       "  'Piriya Vijaya',\n",
       "  'YSRCP',\n",
       "  '70,829',\n",
       "  '37.51',\n",
       "  '39,783',\n",
       "  'https://en.wikipedia.org/wiki/Ichchapuram_Assembly_constituency'],\n",
       " ['Srikakulam',\n",
       "  '2',\n",
       "  'Palasa',\n",
       "  'Gouthu Sireesha',\n",
       "  'TDP',\n",
       "  '101,560',\n",
       "  '60.44',\n",
       "  'Seediri Appalaraju',\n",
       "  'YSRCP',\n",
       "  '61,210',\n",
       "  '36.43',\n",
       "  '40,350',\n",
       "  'https://en.wikipedia.org/wiki/Palasa_Assembly_constituency'],\n",
       " ['Srikakulam',\n",
       "  '3',\n",
       "  'Tekkali',\n",
       "  'Kinjarapu Atchannaidu',\n",
       "  'TDP',\n",
       "  '107,923',\n",
       "  '55.71',\n",
       "  'Duvvada Srinivas',\n",
       "  'YSRCP',\n",
       "  '73,488',\n",
       "  '37.94',\n",
       "  '34,435',\n",
       "  'https://en.wikipedia.org/wiki/Tekkali_Assembly_constituency'],\n",
       " ['Srikakulam',\n",
       "  '4',\n",
       "  'Pathapatnam',\n",
       "  'Mamidi Govinda Rao',\n",
       "  'TDP',\n",
       "  '89,452',\n",
       "  '54.76',\n",
       "  'Reddy Shanthi',\n",
       "  'YSRCP',\n",
       "  '62,925',\n",
       "  '38.52',\n",
       "  '26,527',\n",
       "  'https://en.wikipedia.org/wiki/Pathapatnam_Assembly_constituency'],\n",
       " ['Srikakulam',\n",
       "  '5',\n",
       "  'Srikakulam',\n",
       "  'Gondu Shankar',\n",
       "  'TDP',\n",
       "  '117,091',\n",
       "  '60.93',\n",
       "  'Dharmana Prasada Rao',\n",
       "  'YSRCP',\n",
       "  '64,570',\n",
       "  '33.60',\n",
       "  '52,521',\n",
       "  'https://en.wikipedia.org/wiki/Srikakulam_Assembly_constituency']]"
      ]
     },
     "execution_count": 77,
     "metadata": {},
     "output_type": "execute_result"
    }
   ],
   "source": [
    "[data if len(data)==10 or len(data)==12  else data.insert(0,table_data[index-1][0]) for index, data in enumerate(table_data)] \n",
    "[data.append(f'https://en.wikipedia.org/wiki/{data[2]}_Assembly_constituency') for data in table_data]\n",
    "table_data[:5]"
   ]
  },
  {
   "cell_type": "markdown",
   "metadata": {},
   "source": [
    "---\n",
    "### Converting table_data into Pandas DataFrame "
   ]
  },
  {
   "cell_type": "code",
   "execution_count": 78,
   "metadata": {},
   "outputs": [
    {
     "data": {
      "text/html": [
       "<div>\n",
       "<style scoped>\n",
       "    .dataframe tbody tr th:only-of-type {\n",
       "        vertical-align: middle;\n",
       "    }\n",
       "\n",
       "    .dataframe tbody tr th {\n",
       "        vertical-align: top;\n",
       "    }\n",
       "\n",
       "    .dataframe thead th {\n",
       "        text-align: right;\n",
       "    }\n",
       "</style>\n",
       "<table border=\"1\" class=\"dataframe\">\n",
       "  <thead>\n",
       "    <tr style=\"text-align: right;\">\n",
       "      <th></th>\n",
       "      <th>District</th>\n",
       "      <th>Constituency No.</th>\n",
       "      <th>Constituency Name</th>\n",
       "      <th>Winner Candidate</th>\n",
       "      <th>Winner Party</th>\n",
       "      <th>Winner Votes</th>\n",
       "      <th>%</th>\n",
       "      <th>Runner-Up Candidate</th>\n",
       "      <th>Runner-Up Party</th>\n",
       "      <th>Runner-Up Votes</th>\n",
       "      <th>%</th>\n",
       "      <th>Margin</th>\n",
       "      <th>Link</th>\n",
       "    </tr>\n",
       "  </thead>\n",
       "  <tbody>\n",
       "    <tr>\n",
       "      <th>0</th>\n",
       "      <td>Srikakulam</td>\n",
       "      <td>1</td>\n",
       "      <td>Ichchapuram</td>\n",
       "      <td>Bendalam Ashok</td>\n",
       "      <td>TDP</td>\n",
       "      <td>110,612</td>\n",
       "      <td>58.58</td>\n",
       "      <td>Piriya Vijaya</td>\n",
       "      <td>YSRCP</td>\n",
       "      <td>70,829</td>\n",
       "      <td>37.51</td>\n",
       "      <td>39,783</td>\n",
       "      <td>https://en.wikipedia.org/wiki/Ichchapuram_Asse...</td>\n",
       "    </tr>\n",
       "    <tr>\n",
       "      <th>1</th>\n",
       "      <td>Srikakulam</td>\n",
       "      <td>2</td>\n",
       "      <td>Palasa</td>\n",
       "      <td>Gouthu Sireesha</td>\n",
       "      <td>TDP</td>\n",
       "      <td>101,560</td>\n",
       "      <td>60.44</td>\n",
       "      <td>Seediri Appalaraju</td>\n",
       "      <td>YSRCP</td>\n",
       "      <td>61,210</td>\n",
       "      <td>36.43</td>\n",
       "      <td>40,350</td>\n",
       "      <td>https://en.wikipedia.org/wiki/Palasa_Assembly_...</td>\n",
       "    </tr>\n",
       "    <tr>\n",
       "      <th>2</th>\n",
       "      <td>Srikakulam</td>\n",
       "      <td>3</td>\n",
       "      <td>Tekkali</td>\n",
       "      <td>Kinjarapu Atchannaidu</td>\n",
       "      <td>TDP</td>\n",
       "      <td>107,923</td>\n",
       "      <td>55.71</td>\n",
       "      <td>Duvvada Srinivas</td>\n",
       "      <td>YSRCP</td>\n",
       "      <td>73,488</td>\n",
       "      <td>37.94</td>\n",
       "      <td>34,435</td>\n",
       "      <td>https://en.wikipedia.org/wiki/Tekkali_Assembly...</td>\n",
       "    </tr>\n",
       "    <tr>\n",
       "      <th>3</th>\n",
       "      <td>Srikakulam</td>\n",
       "      <td>4</td>\n",
       "      <td>Pathapatnam</td>\n",
       "      <td>Mamidi Govinda Rao</td>\n",
       "      <td>TDP</td>\n",
       "      <td>89,452</td>\n",
       "      <td>54.76</td>\n",
       "      <td>Reddy Shanthi</td>\n",
       "      <td>YSRCP</td>\n",
       "      <td>62,925</td>\n",
       "      <td>38.52</td>\n",
       "      <td>26,527</td>\n",
       "      <td>https://en.wikipedia.org/wiki/Pathapatnam_Asse...</td>\n",
       "    </tr>\n",
       "    <tr>\n",
       "      <th>4</th>\n",
       "      <td>Srikakulam</td>\n",
       "      <td>5</td>\n",
       "      <td>Srikakulam</td>\n",
       "      <td>Gondu Shankar</td>\n",
       "      <td>TDP</td>\n",
       "      <td>117,091</td>\n",
       "      <td>60.93</td>\n",
       "      <td>Dharmana Prasada Rao</td>\n",
       "      <td>YSRCP</td>\n",
       "      <td>64,570</td>\n",
       "      <td>33.60</td>\n",
       "      <td>52,521</td>\n",
       "      <td>https://en.wikipedia.org/wiki/Srikakulam_Assem...</td>\n",
       "    </tr>\n",
       "    <tr>\n",
       "      <th>...</th>\n",
       "      <td>...</td>\n",
       "      <td>...</td>\n",
       "      <td>...</td>\n",
       "      <td>...</td>\n",
       "      <td>...</td>\n",
       "      <td>...</td>\n",
       "      <td>...</td>\n",
       "      <td>...</td>\n",
       "      <td>...</td>\n",
       "      <td>...</td>\n",
       "      <td>...</td>\n",
       "      <td>...</td>\n",
       "      <td>...</td>\n",
       "    </tr>\n",
       "    <tr>\n",
       "      <th>170</th>\n",
       "      <td>Chittoor</td>\n",
       "      <td>171</td>\n",
       "      <td>Gangadhara Nellore (SC)</td>\n",
       "      <td>V. M. Thomas</td>\n",
       "      <td>TDP</td>\n",
       "      <td>101,176</td>\n",
       "      <td>55.22</td>\n",
       "      <td>Kalattur Krupa Lakshmi</td>\n",
       "      <td>YSRCP</td>\n",
       "      <td>75,165</td>\n",
       "      <td>41.02</td>\n",
       "      <td>26,011</td>\n",
       "      <td>https://en.wikipedia.org/wiki/Gangadhara Nello...</td>\n",
       "    </tr>\n",
       "    <tr>\n",
       "      <th>171</th>\n",
       "      <td>Chittoor</td>\n",
       "      <td>172</td>\n",
       "      <td>Chittoor</td>\n",
       "      <td>Gurajala Jagan Mohan</td>\n",
       "      <td>TDP</td>\n",
       "      <td>88,066</td>\n",
       "      <td>52.49</td>\n",
       "      <td>M. Vijayananda Reddy</td>\n",
       "      <td>YSRCP</td>\n",
       "      <td>73,462</td>\n",
       "      <td>43.78</td>\n",
       "      <td>14,604</td>\n",
       "      <td>https://en.wikipedia.org/wiki/Chittoor_Assembl...</td>\n",
       "    </tr>\n",
       "    <tr>\n",
       "      <th>172</th>\n",
       "      <td>Chittoor</td>\n",
       "      <td>173</td>\n",
       "      <td>Puthalapattu (SC)</td>\n",
       "      <td>Kalikiri Murali Mohan</td>\n",
       "      <td>TDP</td>\n",
       "      <td>102,137</td>\n",
       "      <td>50.99</td>\n",
       "      <td>M. Sunil Kumar</td>\n",
       "      <td>YSRCP</td>\n",
       "      <td>86,503</td>\n",
       "      <td>43.20</td>\n",
       "      <td>15,634</td>\n",
       "      <td>https://en.wikipedia.org/wiki/Puthalapattu (SC...</td>\n",
       "    </tr>\n",
       "    <tr>\n",
       "      <th>173</th>\n",
       "      <td>Chittoor</td>\n",
       "      <td>174</td>\n",
       "      <td>Palamaner</td>\n",
       "      <td>N. Amarnath Reddy</td>\n",
       "      <td>TDP</td>\n",
       "      <td>123,232</td>\n",
       "      <td>52.09</td>\n",
       "      <td>N. Venkate Gowda</td>\n",
       "      <td>YSRCP</td>\n",
       "      <td>103,110</td>\n",
       "      <td>43.59</td>\n",
       "      <td>20,122</td>\n",
       "      <td>https://en.wikipedia.org/wiki/Palamaner_Assemb...</td>\n",
       "    </tr>\n",
       "    <tr>\n",
       "      <th>174</th>\n",
       "      <td>Chittoor</td>\n",
       "      <td>175</td>\n",
       "      <td>Kuppam</td>\n",
       "      <td>N. Chandrababu Naidu</td>\n",
       "      <td>TDP</td>\n",
       "      <td>121,929</td>\n",
       "      <td>59.96</td>\n",
       "      <td>K. R. J. Bharath</td>\n",
       "      <td>YSRCP</td>\n",
       "      <td>73,923</td>\n",
       "      <td>36.35</td>\n",
       "      <td>48,006</td>\n",
       "      <td>https://en.wikipedia.org/wiki/Kuppam_Assembly_...</td>\n",
       "    </tr>\n",
       "  </tbody>\n",
       "</table>\n",
       "<p>175 rows × 13 columns</p>\n",
       "</div>"
      ],
      "text/plain": [
       "       District Constituency No.        Constituency Name  \\\n",
       "0    Srikakulam                1              Ichchapuram   \n",
       "1    Srikakulam                2                   Palasa   \n",
       "2    Srikakulam                3                  Tekkali   \n",
       "3    Srikakulam                4              Pathapatnam   \n",
       "4    Srikakulam                5               Srikakulam   \n",
       "..          ...              ...                      ...   \n",
       "170    Chittoor              171  Gangadhara Nellore (SC)   \n",
       "171    Chittoor              172                 Chittoor   \n",
       "172    Chittoor              173        Puthalapattu (SC)   \n",
       "173    Chittoor              174                Palamaner   \n",
       "174    Chittoor              175                   Kuppam   \n",
       "\n",
       "          Winner Candidate Winner Party Winner Votes      %  \\\n",
       "0           Bendalam Ashok          TDP      110,612  58.58   \n",
       "1          Gouthu Sireesha          TDP      101,560  60.44   \n",
       "2    Kinjarapu Atchannaidu          TDP      107,923  55.71   \n",
       "3       Mamidi Govinda Rao          TDP       89,452  54.76   \n",
       "4            Gondu Shankar          TDP      117,091  60.93   \n",
       "..                     ...          ...          ...    ...   \n",
       "170           V. M. Thomas          TDP      101,176  55.22   \n",
       "171   Gurajala Jagan Mohan          TDP       88,066  52.49   \n",
       "172  Kalikiri Murali Mohan          TDP      102,137  50.99   \n",
       "173      N. Amarnath Reddy          TDP      123,232  52.09   \n",
       "174   N. Chandrababu Naidu          TDP      121,929  59.96   \n",
       "\n",
       "        Runner-Up Candidate Runner-Up Party Runner-Up Votes      %  Margin  \\\n",
       "0             Piriya Vijaya           YSRCP          70,829  37.51  39,783   \n",
       "1        Seediri Appalaraju           YSRCP          61,210  36.43  40,350   \n",
       "2          Duvvada Srinivas           YSRCP          73,488  37.94  34,435   \n",
       "3             Reddy Shanthi           YSRCP          62,925  38.52  26,527   \n",
       "4      Dharmana Prasada Rao           YSRCP          64,570  33.60  52,521   \n",
       "..                      ...             ...             ...    ...     ...   \n",
       "170  Kalattur Krupa Lakshmi           YSRCP          75,165  41.02  26,011   \n",
       "171    M. Vijayananda Reddy           YSRCP          73,462  43.78  14,604   \n",
       "172          M. Sunil Kumar           YSRCP          86,503  43.20  15,634   \n",
       "173        N. Venkate Gowda           YSRCP         103,110  43.59  20,122   \n",
       "174        K. R. J. Bharath           YSRCP          73,923  36.35  48,006   \n",
       "\n",
       "                                                  Link  \n",
       "0    https://en.wikipedia.org/wiki/Ichchapuram_Asse...  \n",
       "1    https://en.wikipedia.org/wiki/Palasa_Assembly_...  \n",
       "2    https://en.wikipedia.org/wiki/Tekkali_Assembly...  \n",
       "3    https://en.wikipedia.org/wiki/Pathapatnam_Asse...  \n",
       "4    https://en.wikipedia.org/wiki/Srikakulam_Assem...  \n",
       "..                                                 ...  \n",
       "170  https://en.wikipedia.org/wiki/Gangadhara Nello...  \n",
       "171  https://en.wikipedia.org/wiki/Chittoor_Assembl...  \n",
       "172  https://en.wikipedia.org/wiki/Puthalapattu (SC...  \n",
       "173  https://en.wikipedia.org/wiki/Palamaner_Assemb...  \n",
       "174  https://en.wikipedia.org/wiki/Kuppam_Assembly_...  \n",
       "\n",
       "[175 rows x 13 columns]"
      ]
     },
     "execution_count": 78,
     "metadata": {},
     "output_type": "execute_result"
    }
   ],
   "source": [
    "if(len(table_data[0])==len(flattened_headers)+2):\n",
    "    flattened_headers.insert(6,'%')\n",
    "    flattened_headers.insert(10,'%')\n",
    "df = pd.DataFrame(data=table_data, columns=flattened_headers)\n",
    "df"
   ]
  },
  {
   "cell_type": "markdown",
   "metadata": {},
   "source": [
    "---\n",
    "### Converting DataFrame into Excel Sheet"
   ]
  },
  {
   "cell_type": "code",
   "execution_count": 79,
   "metadata": {},
   "outputs": [],
   "source": [
    "df.to_excel(f'ap_ac_{year}.xlsx',sheet_name= f'{year}',index=False)"
   ]
  }
 ],
 "metadata": {
  "kernelspec": {
   "display_name": "myenv",
   "language": "python",
   "name": "python3"
  },
  "language_info": {
   "codemirror_mode": {
    "name": "ipython",
    "version": 3
   },
   "file_extension": ".py",
   "mimetype": "text/x-python",
   "name": "python",
   "nbconvert_exporter": "python",
   "pygments_lexer": "ipython3",
   "version": "3.13.1"
  }
 },
 "nbformat": 4,
 "nbformat_minor": 2
}
